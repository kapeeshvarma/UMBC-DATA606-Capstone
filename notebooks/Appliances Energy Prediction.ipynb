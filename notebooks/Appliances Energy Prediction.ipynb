{
 "cells": [
  {
   "cell_type": "markdown",
   "id": "7fa347f8",
   "metadata": {},
   "source": [
    "## APPLIANCES ENERGY PREDICTION"
   ]
  },
  {
   "cell_type": "markdown",
   "id": "f57493f9",
   "metadata": {},
   "source": [
    "In this time of global uncertainty world needs energy and in increasing quantities to support economic and social progress and build a better quality of life, in particular in developing countries. But even today there are many regions which face constant power outages. These outages are primarily caused due to excess load consumed by home appliances.\n",
    "\n",
    "Hence, the ability to predict energy consumption can not only save money for end user but can also help in generating money by giving excess energy back to Grid (in case of solar panels usage). In this project, I perform regression analysis in order to predict Appliance energy usage based on data collected from various sensors."
   ]
  },
  {
   "cell_type": "code",
   "execution_count": 1,
   "id": "7e7741b3",
   "metadata": {},
   "outputs": [],
   "source": [
    "# Import the necessary modules\n",
    "import numpy as np\n",
    "import pandas as pd\n",
    "import matplotlib.pyplot as plt\n",
    "import seaborn as sns\n",
    "import plotly.express as px\n",
    "import datetime as dt\n",
    "import xgboost as xgb\n",
    "from sklearn.ensemble import RandomForestRegressor\n",
    "from sklearn.linear_model import LinearRegression, Ridge\n",
    "from sklearn.model_selection import train_test_split, cross_val_score, GridSearchCV\n",
    "from sklearn.metrics import mean_squared_error, r2_score\n",
    "from sklearn.preprocessing import OneHotEncoder, StandardScaler"
   ]
  },
  {
   "cell_type": "code",
   "execution_count": 2,
   "id": "357820c5",
   "metadata": {},
   "outputs": [],
   "source": [
    "# Read in the dataset\n",
    "data = pd.read_csv('data_application_energy.csv')"
   ]
  },
  {
   "cell_type": "code",
   "execution_count": null,
   "id": "2829d6d4",
   "metadata": {},
   "outputs": [],
   "source": []
  }
 ],
 "metadata": {
  "kernelspec": {
   "display_name": "Python 3 (ipykernel)",
   "language": "python",
   "name": "python3"
  },
  "language_info": {
   "codemirror_mode": {
    "name": "ipython",
    "version": 3
   },
   "file_extension": ".py",
   "mimetype": "text/x-python",
   "name": "python",
   "nbconvert_exporter": "python",
   "pygments_lexer": "ipython3",
   "version": "3.9.12"
  }
 },
 "nbformat": 4,
 "nbformat_minor": 5
}
